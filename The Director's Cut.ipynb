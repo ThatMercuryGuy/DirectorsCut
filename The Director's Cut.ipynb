{
 "cells": [
  {
   "cell_type": "code",
   "execution_count": null,
   "metadata": {
    "id": "7dCdIKBXm73o",
    "pycharm": {
     "name": "#%%\n"
    }
   },
   "outputs": [],
   "source": [
    "#%pip install ..\n",
    "%pip install stability-sdk"
   ]
  },
  {
   "cell_type": "code",
   "execution_count": null,
   "metadata": {
    "id": "PtfCkM3Qm73r",
    "pycharm": {
     "name": "#%%\n"
    }
   },
   "outputs": [],
   "source": [
    "import getpass, os\n",
    "\n",
    "# NB: host url is not prepended with \\\"https\\\" nor does it have a trailing slash.\n",
    "os.environ['STABILITY_HOST'] = 'grpc.stability.ai:443'\n",
    "\n",
    "# To get your API key, visit https://beta.dreamstudio.ai/membership\n",
    "os.environ['STABILITY_KEY'] = getpass.getpass('Enter your API Key')"
   ]
  },
  {
   "cell_type": "code",
   "execution_count": null,
   "metadata": {
    "pycharm": {
     "name": "#%%\n"
    }
   },
   "outputs": [],
   "source": [
    "from argparse import Namespace\n",
    "\n",
    "import io\n",
    "import torch\n",
    "import numpy as np\n",
    "import sys\n",
    "import os\n",
    "import dlib\n",
    "from pathlib import Path\n",
    "\n",
    "from PIL import Image\n",
    "\n",
    "\n",
    "from models.Embedding import Embedding\n",
    "from models.Alignment import Alignment\n",
    "from models.Blending import Blending\n",
    "\n",
    "from utils.drive import open_url\n",
    "from utils.shape_predictor import align_face\n",
    "\n",
    "import torchvision"
   ]
  },
  {
   "cell_type": "code",
   "execution_count": null,
   "metadata": {
    "pycharm": {
     "name": "#%%\n"
    }
   },
   "outputs": [],
   "source": [
    "align_args = Namespace(unprocessed_dir = 'unprocessed', output_dir = 'input/face', output_size = 1024,\n",
    " cache_dir = 'cache', inter_method = 'bicubic')"
   ]
  },
  {
   "cell_type": "code",
   "execution_count": null,
   "metadata": {
    "pycharm": {
     "name": "#%%\n"
    }
   },
   "outputs": [],
   "source": [
    "#Loading Shape Predictor for Alignment\n",
    "cache_dir = Path(align_args.cache_dir)\n",
    "cache_dir.mkdir(parents=True, exist_ok=True)\n",
    "\n",
    "output_dir = Path(align_args.output_dir)\n",
    "output_dir.mkdir(parents=True,exist_ok=True)\n",
    "\n",
    "print(\"Downloading Shape Predictor\")\n",
    "f=open_url(\"https://drive.google.com/uc?id=1huhv8PYpNNKbGCLOaYUjOgR1pY5pmbJx\", cache_dir=cache_dir, return_path=True)\n",
    "predictor = dlib.shape_predictor(f)"
   ]
  },
  {
   "cell_type": "code",
   "execution_count": null,
   "metadata": {
    "pycharm": {
     "name": "#%%\n"
    }
   },
   "outputs": [],
   "source": [
    "#Automatic Image Cropper\n",
    "def cropper():\n",
    "    img = Image.open(f'unprocessed/image.jpg')\n",
    "    img = img.convert('RGB')\n",
    "\n",
    "    img = img.crop((448, 28, 1472, 1052))\n",
    "    img.save(f'unprocessed/image.jpg')"
   ]
  },
  {
   "cell_type": "code",
   "execution_count": null,
   "metadata": {
    "id": "bwq0OByLm73s",
    "pycharm": {
     "name": "#%%\n"
    }
   },
   "outputs": [],
   "source": [
    "import io\n",
    "import warnings\n"
   ]
  },
  {
   "cell_type": "code",
   "execution_count": null,
   "metadata": {
    "pycharm": {
     "name": "#%%\n"
    }
   },
   "outputs": [],
   "source": [
    "import json\n",
    "import os\n",
    "import shutil\n",
    "from flask import request\n",
    "\n",
    "from flask import Flask, render_template"
   ]
  },
  {
   "cell_type": "code",
   "execution_count": null,
   "metadata": {
    "pycharm": {
     "name": "#%%\n"
    }
   },
   "outputs": [],
   "source": [
    "def align_the_picture():\n",
    "    for im in Path(align_args.unprocessed_dir).glob(\"*.*\"):\n",
    "           faces = align_face(str(im),predictor)\n",
    "\n",
    "           for i,face in enumerate(faces):\n",
    "               if(align_args.output_size):\n",
    "                   factor = 1024//align_args.output_size\n",
    "                   assert align_args.output_size*factor == 1024\n",
    "                   face_tensor = torchvision.transforms.ToTensor()(face).unsqueeze(0).cuda()\n",
    "                   face_tensor_lr = face_tensor[0].cpu().detach().clamp(0, 1)\n",
    "                   face = torchvision.transforms.ToPILImage()(face_tensor_lr)\n",
    "                   if factor != 1:\n",
    "                       face = face.resize((align_args.output_size, align_args.output_size), Image.LANCZOS)\n",
    "               if len(faces) > 1:\n",
    "                   face.save(Path(align_args.output_dir) / (im.stem+f\"_{i}.png\"))\n",
    "               else:\n",
    "                   face.save(Path(align_args.output_dir) / (im.stem + f\".png\"))"
   ]
  },
  {
   "cell_type": "code",
   "execution_count": null,
   "metadata": {
    "pycharm": {
     "name": "#%%\n"
    }
   },
   "outputs": [],
   "source": [
    "def Embedding_step(im_path1, args):\n",
    "    ii2s = Embedding(args)\n",
    "\n",
    "    im_set = {im_path1}\n",
    "    ii2s.invert_images_in_W([*im_set])\n",
    "    ii2s.invert_images_in_FS([*im_set])"
   ]
  },
  {
   "cell_type": "code",
   "execution_count": null,
   "metadata": {
    "pycharm": {
     "name": "#%%\n"
    }
   },
   "outputs": [],
   "source": [
    "app = Flask(__name__, template_folder=\"/mnt/d/Programming/Spectrum/Barbershop/templates\")\n",
    "\n",
    "userPrompt = \"\"\n",
    "al_src_path = \"/mnt/d/Programming/Spectrum/Barbershop/static/output/Align_realistic\"\n",
    "otp_src_path = \"/mnt/d/Programming/Spectrum/Barbershop/static/output\"\n",
    "og_src_path = \"/mnt/d/Programming/Spectrum/Barbershop/static/unprocessed\"\n",
    "fin_path = \"/mnt/d/Programming/Spectrum/Barbershop/static/static\"\n",
    "\n",
    "\n",
    "\n",
    "@app.route('/test', methods=['POST'])\n",
    "def test():\n",
    "    output = request.get_json()\n",
    "    result = json.loads(output)\n",
    "    userPrompt = result[\"userPrompt\"]\n",
    "    print(userPrompt, type(userPrompt))\n",
    "    answers = stability_api.generate(\n",
    "    prompt= \"a realistic photo of \" + userPrompt,\n",
    "    start_schedule=0.95,\n",
    "    # seed=34567, # if provided, specifying a random seed makes results deterministic\n",
    "    steps=30, # defaults to 50 if not specified\n",
    "    )\n",
    "\n",
    "# iterating over the generator produces the api response\n",
    "    for resp in answers:\n",
    "        for artifact in resp.artifacts:\n",
    "            if artifact.finish_reason == generation.FILTER:\n",
    "                warnings.warn(\n",
    "                \"Your request activated the API's safety filters and could not be processed.\"\n",
    "                \"Please modify the prompt and try again.\")\n",
    "            if artifact.type == generation.ARTIFACT_IMAGE:\n",
    "                img = Image.open(io.BytesIO(artifact.binary))\n",
    "                display(img)\n",
    "                img.save(\"static/image.jpg\")\n",
    "    return result\n",
    "\n",
    "@app.route('/hair', methods=['POST'])\n",
    "def hair():\n",
    "    print(\"Running Hair\")\n",
    "    cropper()\n",
    "    \n",
    "    output = request.get_json()\n",
    "    result = json.loads(output)\n",
    "    userHair = result[\"id\"]\n",
    "    blendCheck = result[\"blendCheck\"]\n",
    "    print(blendCheck, type(blendCheck))\n",
    "    old_file = \"\"\n",
    "    new_file = \"\"\n",
    "\n",
    "    print(userHair)\n",
    "    \n",
    "    DOWNLOADED_IMAGE = os.path.join(og_src_path , 'image.jpg')\n",
    "    print(DOWNLOADED_IMAGE)\n",
    "\n",
    "    #PUT IMAGE GENERATION CODE!!!!!\n",
    "    #ALIGN_FACE\n",
    "    print(\"Aligning Face\")\n",
    "    align_the_picture()\n",
    "    \n",
    "    #Embedding Phase\n",
    "    print(\"Embedding\")\n",
    "    \n",
    "\n",
    "    args = Namespace(input_dir='input/face', output_dir='output', im_path1 = 'image.png', im_path2=f'{userHair}.png', \n",
    "    im_path3= f'{userHair}.png', sign='realistic', smooth=5, size=1024, ckpt='pretrained_models/ffhq.pt', channel_multiplier=2,\n",
    "      latent=512, n_mlp=8, device='cuda', seed=None, tile_latent=False, opt_name='adam',\n",
    "       learning_rate=0.01, lr_schedule='fixed', save_intermediate=False, save_interval=300,\n",
    "        verbose=False, seg_ckpt='pretrained_models/seg.pth', percept_lambda=1.0, l2_lambda=1.0,\n",
    "         p_norm_lambda=0.001, l_F_lambda=0.1, W_steps=250, FS_steps=250, ce_lambda=1.0, style_lambda=40000.0,\n",
    "          align_steps1=100, align_steps2=100, face_lambda=1.0, hair_lambda=1.0, blend_steps=200)\n",
    "\n",
    "    im_path1 = os.path.join(args.input_dir, args.im_path1)\n",
    "    im_path2 = os.path.join(args.input_dir, args.im_path2)\n",
    "\n",
    "    Embedding_step(im_path1, args)\n",
    "    \n",
    "    #Mask Alignment\n",
    "    align = Alignment(args)\n",
    "    align.align_images(im_path1, im_path2, sign=args.sign, align_more_region=False, smooth=args.smooth)\n",
    "    \n",
    "    new_file = os.path.join(fin_path, \"image.png\")\n",
    "    if (blendCheck):\n",
    "        #Blending\n",
    "        blend = Blending(args)\n",
    "        blend.blend_images(im_path1, im_path2, im_path2, sign=args.sign)\n",
    "\n",
    "        old_file = os.path.join(otp_src_path, f\"image_{userHair}_{userHair}_{args.sign}.png\")\n",
    "        os.rename(old_file , new_file)\n",
    "        print(\"Blending -> Finished Rename\")\n",
    "    else:\n",
    "        old_file = os.path.join(al_src_path, f\"image_{userHair}.png\")\n",
    "        os.rename(old_file, new_file)\n",
    "        shutil.move(old_file, new_file)\n",
    "        print(\"Finished os manipulation move\")\n",
    "    return result\n",
    "\n",
    "\n",
    "    #LOADING FINISHED IMAGE CODE... DO NOT TOUCH!\n",
    "    '''new_file = os.path.join(otp_src_path, \"image.png\")\n",
    "    if(blendCheck):\n",
    "        old_file = os.path.join(otp_src_path, f\"image_{userHair}_{userHair}.png\")\n",
    "        os.rename(old_file , new_file)\n",
    "        print(\"Blending -> Finished Rename\")\n",
    "    else:\n",
    "        old_file = os.path.join(al_src_path, f\"image_{userHair}.png\")\n",
    "        os.rename(old_file, new_file)\n",
    "        shutil.move(old_file, new_file)\n",
    "        print(\"Finished os manipulation move\")\n",
    "    print(userHair)\n",
    "    return result'''\n",
    "\n",
    "\n",
    "@app.route('/del', methods=['POST'])\n",
    "def delete():\n",
    "    print(\"deleting\")\n",
    "    output = request.get_json()\n",
    "    result = json.loads(output)\n",
    "    if os.path.exists('/mnt/d/Programming/Spectrum/Barbershop/static/unprocessed/image.jpg'):\n",
    "        file = '/mnt/d/Programming/Spectrum/Barbershop/static/unprocessed/image.jpg'\n",
    "        os.remove(file)\n",
    "    else:\n",
    "        print(\"The file does not exist\")\n",
    "    return result\n",
    "\n",
    "\n",
    "@app.route('/')\n",
    "def index():\n",
    "    return render_template('index.html')\n",
    "\n",
    "\n",
    "@app.route('/demo')\n",
    "def demo():\n",
    "    return render_template('demo.html')\n",
    "\n",
    "\n",
    "@app.route('/interpolation')\n",
    "def interpolation():\n",
    "    return render_template('interpolation.html')\n",
    "\n",
    "\n",
    "@app.route('/hairstyle')\n",
    "def hairstyle():\n",
    "    return render_template('hairstyle.html');\n",
    "\n",
    "\n",
    "if __name__ == \"__main__\":\n",
    "    app.run(debug=False)\n"
   ]
  },
  {
   "cell_type": "code",
   "execution_count": null,
   "metadata": {
    "pycharm": {
     "name": "#%%\n"
    }
   },
   "outputs": [],
   "source": []
  },
  {
   "cell_type": "code",
   "execution_count": null,
   "metadata": {
    "pycharm": {
     "name": "#%%\n"
    }
   },
   "outputs": [],
   "source": [
    "# import os\n",
    "\n",
    "\n",
    "\n",
    "\n",
    "\n",
    "\n",
    "# shutil.move(old_file, new_file)"
   ]
  }
 ],
 "metadata": {
  "colab": {
   "provenance": []
  },
  "kernelspec": {
   "display_name": "Python 3 (ipykernel)",
   "language": "python",
   "name": "python3"
  },
  "language_info": {
   "codemirror_mode": {
    "name": "ipython",
    "version": 3
   },
   "file_extension": ".py",
   "mimetype": "text/x-python",
   "name": "python",
   "nbconvert_exporter": "python",
   "pygments_lexer": "ipython3",
   "version": "3.7.11"
  },
  "orig_nbformat": 4,
  "vscode": {
   "interpreter": {
    "hash": "369f2c481f4da34e4445cda3fffd2e751bd1c4d706f27375911949ba6bb62e1c"
   }
  }
 },
 "nbformat": 4,
 "nbformat_minor": 0
}